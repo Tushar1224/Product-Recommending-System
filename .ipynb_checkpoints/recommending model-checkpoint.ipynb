{
 "cells": [
  {
   "cell_type": "markdown",
   "metadata": {
    "colab_type": "text",
    "id": "V6BEZFNsj5vl"
   },
   "source": [
    "# Setting up the data\n",
    "\n",
    "this dataset is a series of reviews and rating of home improvement from Amazon.\n",
    "https://s3.amazonaws.com/amazon-reviews-pds/tsv/amazon_reviews_us_Home_Improvement_v1_00.tsv.gz"
   ]
  },
  {
   "cell_type": "code",
   "execution_count": 16,
   "metadata": {
    "colab": {},
    "colab_type": "code",
    "id": "NrKf5UOKSSSN"
   },
   "outputs": [],
   "source": [
    "import gzip\n",
    "from collections import defaultdict\n",
    "import scipy\n",
    "import scipy.optimize\n",
    "import numpy\n",
    "import random\n",
    "\n",
    "path = \"/content/amazon_reviews_us_Home_Improvement_v1_00.tsv.gz\""
   ]
  },
  {
   "cell_type": "code",
   "execution_count": 17,
   "metadata": {
    "colab": {},
    "colab_type": "code",
    "id": "_0gWuxagSThu"
   },
   "outputs": [],
   "source": [
    "f = gzip.open(path, 'rt', encoding=\"utf8\")\n",
    "\n",
    "header = f.readline()\n",
    "header = header.strip().split('\\t')\n",
    "\n",
    "dataset = []\n",
    "\n",
    "for line in f:\n",
    "    fields = line.strip().split('\\t')\n",
    "    d = dict(zip(header, fields))\n",
    "    d['star_rating'] = int(d['star_rating'])\n",
    "    d['helpful_votes'] = int(d['helpful_votes'])\n",
    "    d['total_votes'] = int(d['total_votes'])\n",
    "    dataset.append(d)"
   ]
  },
  {
   "cell_type": "markdown",
   "metadata": {
    "colab_type": "text",
    "id": "vuLjJpUb9kyv"
   },
   "source": [
    "## checking the attributes of our data"
   ]
  },
  {
   "cell_type": "code",
   "execution_count": 18,
   "metadata": {
    "colab": {
     "base_uri": "https://localhost:8080/",
     "height": 273
    },
    "colab_type": "code",
    "id": "-LhF-jT_TSOS",
    "outputId": "807e4850-6e50-4b12-c519-2c33ba02a501"
   },
   "outputs": [
    {
     "data": {
      "text/plain": [
       "{'customer_id': '48881148',\n",
       " 'helpful_votes': 0,\n",
       " 'marketplace': 'US',\n",
       " 'product_category': 'Home Improvement',\n",
       " 'product_id': 'B00FR4YQYK',\n",
       " 'product_parent': '381800308',\n",
       " 'product_title': 'SadoTech Model C Wireless Doorbell Operating at over 500-feet Range with Over 50 Chimes, No Batteries Required for Receiver, (Various Colors)',\n",
       " 'review_body': 'good product',\n",
       " 'review_date': '2015-08-31',\n",
       " 'review_headline': 'Four Stars',\n",
       " 'review_id': 'R215C9BDXTDQOW',\n",
       " 'star_rating': 4,\n",
       " 'total_votes': 0,\n",
       " 'verified_purchase': 'Y',\n",
       " 'vine': 'N'}"
      ]
     },
     "execution_count": 18,
     "metadata": {
      "tags": []
     },
     "output_type": "execute_result"
    }
   ],
   "source": [
    "dataset[0]"
   ]
  },
  {
   "cell_type": "markdown",
   "metadata": {
    "colab_type": "text",
    "id": "HdrE8Y7a6Zq6"
   },
   "source": [
    "# Finding Similarities"
   ]
  },
  {
   "cell_type": "markdown",
   "metadata": {
    "colab_type": "text",
    "id": "h7CulbIJ9wvF"
   },
   "source": [
    "## extracting data features required for finding similarities:\n",
    "\n",
    "* userPerItem: contains users for a items in a dictionary\n",
    "* itemsPerUser: conatins items for a user in a dictionary\n",
    "* itemNames: contains name of item corresponding to a product id"
   ]
  },
  {
   "cell_type": "code",
   "execution_count": 19,
   "metadata": {
    "colab": {},
    "colab_type": "code",
    "id": "ZtdRy1stUpN8"
   },
   "outputs": [],
   "source": [
    "usersPerItem = defaultdict(set)\n",
    "itemsPerUser = defaultdict(set)\n",
    "\n",
    "itemNames = {}\n",
    "\n",
    "for d in dataset:\n",
    "    user,item = d['customer_id'], d['product_id']\n",
    "    usersPerItem[item].add(user)\n",
    "    itemsPerUser[user].add(item)\n",
    "    itemNames[item] = d['product_title']"
   ]
  },
  {
   "cell_type": "markdown",
   "metadata": {
    "colab_type": "text",
    "id": "lgN5hz7V7QEU"
   },
   "source": [
    "## function to find similarities\n",
    "\n",
    "We are using Jaccard similarity to find the similarity between 2 products for different users."
   ]
  },
  {
   "cell_type": "code",
   "execution_count": 20,
   "metadata": {
    "colab": {},
    "colab_type": "code",
    "id": "LOTMoyebVGbd"
   },
   "outputs": [],
   "source": [
    "def Jaccard(s1, s2):\n",
    "    numer = len(s1.intersection(s2))\n",
    "    denom = len(s1.union(s2))\n",
    "    return numer / denom"
   ]
  },
  {
   "cell_type": "markdown",
   "metadata": {
    "colab_type": "text",
    "id": "SD0tqW_--4iF"
   },
   "source": [
    "Our mostSimilar function above takes an input of a \"Product ID\" and a value n which is the number of similar Products we would like, then outputs a list of size n with the Poduct ID's."
   ]
  },
  {
   "cell_type": "code",
   "execution_count": 21,
   "metadata": {
    "colab": {},
    "colab_type": "code",
    "id": "mg56kVnOlQK9"
   },
   "outputs": [],
   "source": [
    "def mostSimilar(iD, n):\n",
    "    similarities = []\n",
    "    users = usersPerItem[iD]\n",
    "    for i2 in usersPerItem:\n",
    "        if i2 == iD: continue\n",
    "        sim = Jaccard(users, usersPerItem[i2])\n",
    "        similarities.append((sim,i2))\n",
    "    similarities.sort(reverse=True)\n",
    "    return similarities[:n]"
   ]
  },
  {
   "cell_type": "markdown",
   "metadata": {
    "colab_type": "text",
    "id": "SnZYauHW7WZT"
   },
   "source": [
    "# Getting a Recommendation"
   ]
  },
  {
   "cell_type": "code",
   "execution_count": 22,
   "metadata": {
    "colab": {
     "base_uri": "https://localhost:8080/",
     "height": 34
    },
    "colab_type": "code",
    "id": "cRKsgcydlVty",
    "outputId": "6f7e102b-bcf2-495a-e58f-36fd058b54ae"
   },
   "outputs": [
    {
     "data": {
      "text/plain": [
       "'B008BYQCWM'"
      ]
     },
     "execution_count": 22,
     "metadata": {
      "tags": []
     },
     "output_type": "execute_result"
    }
   ],
   "source": [
    "query = dataset[10]['product_id']\n",
    "query"
   ]
  },
  {
   "cell_type": "code",
   "execution_count": 23,
   "metadata": {
    "colab": {
     "base_uri": "https://localhost:8080/",
     "height": 34
    },
    "colab_type": "code",
    "id": "LpVCX3zdlXFd",
    "outputId": "e7ac3c3e-4814-4723-cef0-e51026bbebe6"
   },
   "outputs": [
    {
     "data": {
      "text/plain": [
       "'Legend 809125 Legend Decorative Lever Passage Adj Bs Bronze'"
      ]
     },
     "execution_count": 23,
     "metadata": {
      "tags": []
     },
     "output_type": "execute_result"
    }
   ],
   "source": [
    "itemNames[query]"
   ]
  },
  {
   "cell_type": "code",
   "execution_count": 24,
   "metadata": {
    "colab": {
     "base_uri": "https://localhost:8080/",
     "height": 187
    },
    "colab_type": "code",
    "id": "sHjgXOM_7agw",
    "outputId": "bbd266dd-54c3-4f5c-86b0-f6ad4f90e89c"
   },
   "outputs": [
    {
     "data": {
      "text/plain": [
       "[(0.23837209302325582, 'B008BYQCWW'),\n",
       " (0.08955223880597014, 'B008BYQECU'),\n",
       " (0.050359712230215826, 'B008BYQCS6'),\n",
       " (0.04790419161676647, 'B002X9NGPM'),\n",
       " (0.026737967914438502, 'B0050ZP8DO'),\n",
       " (0.01834862385321101, 'B005CTJ7IU'),\n",
       " (0.017241379310344827, 'B00EEPZ6CY'),\n",
       " (0.012987012987012988, 'B008BYQGEQ'),\n",
       " (0.010526315789473684, 'B0000DCFE7'),\n",
       " (0.010416666666666666, 'B0000DCFEM')]"
      ]
     },
     "execution_count": 24,
     "metadata": {
      "tags": []
     },
     "output_type": "execute_result"
    }
   ],
   "source": [
    "mostSimilar(query, 10)"
   ]
  },
  {
   "cell_type": "markdown",
   "metadata": {
    "colab_type": "text",
    "id": "_-ZTJwdD74hA"
   },
   "source": [
    "## getting 10 most similar product Using Jaccard Similarity"
   ]
  },
  {
   "cell_type": "code",
   "execution_count": 25,
   "metadata": {
    "colab": {
     "base_uri": "https://localhost:8080/",
     "height": 187
    },
    "colab_type": "code",
    "id": "Dh5KtZ-97qoM",
    "outputId": "3d4c2b44-a602-4b1a-ccda-0c810b2125f5"
   },
   "outputs": [
    {
     "data": {
      "text/plain": [
       "['Legend Wave Style Lever Handle Privacy Bed and Bath Leverset Lockset',\n",
       " 'Legend 809153 Wave Style Handle Dummy Leverset, US613 Oil Rubbed Bronze Finish',\n",
       " 'Legend 809119 Legend Decorative Lever Entry Adj Bs Kw1 Bronze',\n",
       " 'Legend 809126 Wave Style Lever Front Door Knob Entry Leverset Lockset and Single Cylinder Deadbolt Combination Set, US3 Polished Brass Finish',\n",
       " '3558-ORB Pack of 12 3-1/2” Oil Rubbed Bronze Door Hinges 5/8\" Radius Corners',\n",
       " 'Designers Impressions Kingston Design Oil Rubbed Bronze Door Levers',\n",
       " 'Dynasty Hardware DEN-HER-100-12PR Denver Front Door Handleset, Aged Oil Rubbed Bronze, With Heritage Lever, Right Hand',\n",
       " 'Legend 931123 Legend Privacy Egg Knob Lock Oil Rubbed Bronze',\n",
       " 'Moen Danbury Double Robe Hook',\n",
       " 'Moen Danbury Towel Ring']"
      ]
     },
     "execution_count": 25,
     "metadata": {
      "tags": []
     },
     "output_type": "execute_result"
    }
   ],
   "source": [
    "[itemNames[x[1]] for x in mostSimilar(query, 10)]"
   ]
  }
 ],
 "metadata": {
  "colab": {
   "collapsed_sections": [],
   "name": "project4.ipynb",
   "provenance": [],
   "toc_visible": true
  },
  "kernelspec": {
   "display_name": "Python 3",
   "language": "python",
   "name": "python3"
  },
  "language_info": {
   "codemirror_mode": {
    "name": "ipython",
    "version": 3
   },
   "file_extension": ".py",
   "mimetype": "text/x-python",
   "name": "python",
   "nbconvert_exporter": "python",
   "pygments_lexer": "ipython3",
   "version": "3.7.2"
  }
 },
 "nbformat": 4,
 "nbformat_minor": 1
}
